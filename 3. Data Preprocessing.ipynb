{
 "cells": [
  {
   "cell_type": "code",
   "execution_count": 1,
   "id": "2ce73e8d",
   "metadata": {},
   "outputs": [],
   "source": [
    "import re\n",
    "import numpy as np\n",
    "import pandas as pd"
   ]
  },
  {
   "cell_type": "code",
   "execution_count": 2,
   "id": "78b97397",
   "metadata": {},
   "outputs": [],
   "source": [
    "data = pd.read_parquet('data/reviews.pq')"
   ]
  },
  {
   "cell_type": "code",
   "execution_count": 3,
   "id": "e9f33afb",
   "metadata": {},
   "outputs": [
    {
     "data": {
      "text/html": [
       "<div>\n",
       "<style scoped>\n",
       "    .dataframe tbody tr th:only-of-type {\n",
       "        vertical-align: middle;\n",
       "    }\n",
       "\n",
       "    .dataframe tbody tr th {\n",
       "        vertical-align: top;\n",
       "    }\n",
       "\n",
       "    .dataframe thead th {\n",
       "        text-align: right;\n",
       "    }\n",
       "</style>\n",
       "<table border=\"1\" class=\"dataframe\">\n",
       "  <thead>\n",
       "    <tr style=\"text-align: right;\">\n",
       "      <th></th>\n",
       "      <th>userName</th>\n",
       "      <th>review</th>\n",
       "      <th>title</th>\n",
       "      <th>isEdited</th>\n",
       "      <th>date</th>\n",
       "      <th>rating</th>\n",
       "      <th>developerResponse</th>\n",
       "      <th>app_name</th>\n",
       "    </tr>\n",
       "  </thead>\n",
       "  <tbody>\n",
       "    <tr>\n",
       "      <th>0</th>\n",
       "      <td>mov ax,1/int 21h</td>\n",
       "      <td>OVERALL If you’re tired of companies like face...</td>\n",
       "      <td>Secure, Easy to Use</td>\n",
       "      <td>False</td>\n",
       "      <td>2021-07-24 13:51:42</td>\n",
       "      <td>4</td>\n",
       "      <td>None</td>\n",
       "      <td>telegram-messenger</td>\n",
       "    </tr>\n",
       "    <tr>\n",
       "      <th>1</th>\n",
       "      <td>girlwithLion</td>\n",
       "      <td>✩ edit: the gift subscription button is not wo...</td>\n",
       "      <td>it’s my favorite app and i recommend it to eve...</td>\n",
       "      <td>False</td>\n",
       "      <td>2022-08-23 03:17:01</td>\n",
       "      <td>5</td>\n",
       "      <td>None</td>\n",
       "      <td>telegram-messenger</td>\n",
       "    </tr>\n",
       "    <tr>\n",
       "      <th>2</th>\n",
       "      <td>Mr.. Fisher</td>\n",
       "      <td>Hey, I’ve been using Telegram for over 10+ yea...</td>\n",
       "      <td>In desperate need of Group Video Chat</td>\n",
       "      <td>False</td>\n",
       "      <td>2021-02-18 15:00:42</td>\n",
       "      <td>3</td>\n",
       "      <td>None</td>\n",
       "      <td>telegram-messenger</td>\n",
       "    </tr>\n",
       "    <tr>\n",
       "      <th>3</th>\n",
       "      <td>Zakir Hosen</td>\n",
       "      <td>I am enjoying telegram as my main chatting app...</td>\n",
       "      <td>Need Video calling feature, faster passcode lo...</td>\n",
       "      <td>False</td>\n",
       "      <td>2019-09-20 15:54:38</td>\n",
       "      <td>4</td>\n",
       "      <td>{'id': 20383789, 'body': 'Video calls are avai...</td>\n",
       "      <td>telegram-messenger</td>\n",
       "    </tr>\n",
       "    <tr>\n",
       "      <th>4</th>\n",
       "      <td>Mr Bcubed</td>\n",
       "      <td>The genuine telegram app deletes text messages...</td>\n",
       "      <td>Deleted messages</td>\n",
       "      <td>False</td>\n",
       "      <td>2020-05-30 05:14:18</td>\n",
       "      <td>5</td>\n",
       "      <td>None</td>\n",
       "      <td>telegram-messenger</td>\n",
       "    </tr>\n",
       "  </tbody>\n",
       "</table>\n",
       "</div>"
      ],
      "text/plain": [
       "           userName                                             review  \\\n",
       "0  mov ax,1/int 21h  OVERALL If you’re tired of companies like face...   \n",
       "1      girlwithLion  ✩ edit: the gift subscription button is not wo...   \n",
       "2       Mr.. Fisher  Hey, I’ve been using Telegram for over 10+ yea...   \n",
       "3       Zakir Hosen  I am enjoying telegram as my main chatting app...   \n",
       "4         Mr Bcubed  The genuine telegram app deletes text messages...   \n",
       "\n",
       "                                               title  isEdited  \\\n",
       "0                                Secure, Easy to Use     False   \n",
       "1  it’s my favorite app and i recommend it to eve...     False   \n",
       "2              In desperate need of Group Video Chat     False   \n",
       "3  Need Video calling feature, faster passcode lo...     False   \n",
       "4                                   Deleted messages     False   \n",
       "\n",
       "                 date  rating  \\\n",
       "0 2021-07-24 13:51:42       4   \n",
       "1 2022-08-23 03:17:01       5   \n",
       "2 2021-02-18 15:00:42       3   \n",
       "3 2019-09-20 15:54:38       4   \n",
       "4 2020-05-30 05:14:18       5   \n",
       "\n",
       "                                   developerResponse            app_name  \n",
       "0                                               None  telegram-messenger  \n",
       "1                                               None  telegram-messenger  \n",
       "2                                               None  telegram-messenger  \n",
       "3  {'id': 20383789, 'body': 'Video calls are avai...  telegram-messenger  \n",
       "4                                               None  telegram-messenger  "
      ]
     },
     "execution_count": 3,
     "metadata": {},
     "output_type": "execute_result"
    }
   ],
   "source": [
    "data.head()"
   ]
  },
  {
   "cell_type": "code",
   "execution_count": 4,
   "id": "b29be077-2ba9-4810-a811-a4249a123665",
   "metadata": {},
   "outputs": [],
   "source": [
    "def clean_reviews(text):\n",
    "    res = text.replace('\\n', ' ')\n",
    "    # next I'll remove all non latin characters\n",
    "    res = re.sub(r'[^\\x00-\\x7F\\x80-\\xFF\\u0100-\\u017F\\u0180-\\u024F\\u1E00-\\u1EFF]', u'', res)\n",
    "    return ' '.join(res.split())"
   ]
  },
  {
   "cell_type": "code",
   "execution_count": 5,
   "id": "4f72018f",
   "metadata": {},
   "outputs": [],
   "source": [
    "DROP = ['title', 'isEdited', 'developerResponse']\n",
    "\n",
    "data = data.drop(DROP, axis=1)\n",
    "data = data.drop_duplicates()\n",
    "data['date'] = pd.to_datetime(data['date'])\n",
    "data['rating'] = data['rating'].astype(int)\n",
    "data['review'] = data['review'].apply(clean_reviews)"
   ]
  },
  {
   "cell_type": "code",
   "execution_count": 6,
   "id": "eefdf02b",
   "metadata": {},
   "outputs": [
    {
     "data": {
      "text/html": [
       "<div>\n",
       "<style scoped>\n",
       "    .dataframe tbody tr th:only-of-type {\n",
       "        vertical-align: middle;\n",
       "    }\n",
       "\n",
       "    .dataframe tbody tr th {\n",
       "        vertical-align: top;\n",
       "    }\n",
       "\n",
       "    .dataframe thead th {\n",
       "        text-align: right;\n",
       "    }\n",
       "</style>\n",
       "<table border=\"1\" class=\"dataframe\">\n",
       "  <thead>\n",
       "    <tr style=\"text-align: right;\">\n",
       "      <th></th>\n",
       "      <th>userName</th>\n",
       "      <th>review</th>\n",
       "      <th>date</th>\n",
       "      <th>rating</th>\n",
       "      <th>app_name</th>\n",
       "    </tr>\n",
       "  </thead>\n",
       "  <tbody>\n",
       "    <tr>\n",
       "      <th>0</th>\n",
       "      <td>mov ax,1/int 21h</td>\n",
       "      <td>OVERALL If youre tired of companies like faceb...</td>\n",
       "      <td>2021-07-24 13:51:42</td>\n",
       "      <td>4</td>\n",
       "      <td>telegram-messenger</td>\n",
       "    </tr>\n",
       "    <tr>\n",
       "      <th>1</th>\n",
       "      <td>girlwithLion</td>\n",
       "      <td>edit: the gift subscription button is not work...</td>\n",
       "      <td>2022-08-23 03:17:01</td>\n",
       "      <td>5</td>\n",
       "      <td>telegram-messenger</td>\n",
       "    </tr>\n",
       "    <tr>\n",
       "      <th>2</th>\n",
       "      <td>Mr.. Fisher</td>\n",
       "      <td>Hey, Ive been using Telegram for over 10+ year...</td>\n",
       "      <td>2021-02-18 15:00:42</td>\n",
       "      <td>3</td>\n",
       "      <td>telegram-messenger</td>\n",
       "    </tr>\n",
       "    <tr>\n",
       "      <th>3</th>\n",
       "      <td>Zakir Hosen</td>\n",
       "      <td>I am enjoying telegram as my main chatting app...</td>\n",
       "      <td>2019-09-20 15:54:38</td>\n",
       "      <td>4</td>\n",
       "      <td>telegram-messenger</td>\n",
       "    </tr>\n",
       "    <tr>\n",
       "      <th>4</th>\n",
       "      <td>Mr Bcubed</td>\n",
       "      <td>The genuine telegram app deletes text messages...</td>\n",
       "      <td>2020-05-30 05:14:18</td>\n",
       "      <td>5</td>\n",
       "      <td>telegram-messenger</td>\n",
       "    </tr>\n",
       "  </tbody>\n",
       "</table>\n",
       "</div>"
      ],
      "text/plain": [
       "           userName                                             review  \\\n",
       "0  mov ax,1/int 21h  OVERALL If youre tired of companies like faceb...   \n",
       "1      girlwithLion  edit: the gift subscription button is not work...   \n",
       "2       Mr.. Fisher  Hey, Ive been using Telegram for over 10+ year...   \n",
       "3       Zakir Hosen  I am enjoying telegram as my main chatting app...   \n",
       "4         Mr Bcubed  The genuine telegram app deletes text messages...   \n",
       "\n",
       "                 date  rating            app_name  \n",
       "0 2021-07-24 13:51:42       4  telegram-messenger  \n",
       "1 2022-08-23 03:17:01       5  telegram-messenger  \n",
       "2 2021-02-18 15:00:42       3  telegram-messenger  \n",
       "3 2019-09-20 15:54:38       4  telegram-messenger  \n",
       "4 2020-05-30 05:14:18       5  telegram-messenger  "
      ]
     },
     "execution_count": 6,
     "metadata": {},
     "output_type": "execute_result"
    }
   ],
   "source": [
    "data.head()"
   ]
  },
  {
   "cell_type": "code",
   "execution_count": 7,
   "id": "ed99e0b2",
   "metadata": {},
   "outputs": [],
   "source": [
    "data = data.rename(columns={'userName': 'user_name'})"
   ]
  },
  {
   "cell_type": "markdown",
   "id": "6f04bb3e",
   "metadata": {},
   "source": [
    "Other preprocessing activities will be done in next sections"
   ]
  },
  {
   "cell_type": "code",
   "execution_count": 8,
   "id": "5db00f8e",
   "metadata": {},
   "outputs": [
    {
     "name": "stdout",
     "output_type": "stream",
     "text": [
      "<class 'pandas.core.frame.DataFrame'>\n",
      "Int64Index: 6300 entries, 0 to 6299\n",
      "Data columns (total 5 columns):\n",
      " #   Column     Non-Null Count  Dtype         \n",
      "---  ------     --------------  -----         \n",
      " 0   user_name  6300 non-null   object        \n",
      " 1   review     6300 non-null   object        \n",
      " 2   date       6300 non-null   datetime64[ns]\n",
      " 3   rating     6300 non-null   int64         \n",
      " 4   app_name   6300 non-null   object        \n",
      "dtypes: datetime64[ns](1), int64(1), object(3)\n",
      "memory usage: 295.3+ KB\n"
     ]
    }
   ],
   "source": [
    "data.info()"
   ]
  },
  {
   "cell_type": "code",
   "execution_count": 9,
   "id": "5cb92361",
   "metadata": {},
   "outputs": [
    {
     "data": {
      "text/html": [
       "<div>\n",
       "<style scoped>\n",
       "    .dataframe tbody tr th:only-of-type {\n",
       "        vertical-align: middle;\n",
       "    }\n",
       "\n",
       "    .dataframe tbody tr th {\n",
       "        vertical-align: top;\n",
       "    }\n",
       "\n",
       "    .dataframe thead th {\n",
       "        text-align: right;\n",
       "    }\n",
       "</style>\n",
       "<table border=\"1\" class=\"dataframe\">\n",
       "  <thead>\n",
       "    <tr style=\"text-align: right;\">\n",
       "      <th></th>\n",
       "      <th>rating</th>\n",
       "    </tr>\n",
       "  </thead>\n",
       "  <tbody>\n",
       "    <tr>\n",
       "      <th>count</th>\n",
       "      <td>6300.000000</td>\n",
       "    </tr>\n",
       "    <tr>\n",
       "      <th>mean</th>\n",
       "      <td>3.391746</td>\n",
       "    </tr>\n",
       "    <tr>\n",
       "      <th>std</th>\n",
       "      <td>1.554185</td>\n",
       "    </tr>\n",
       "    <tr>\n",
       "      <th>min</th>\n",
       "      <td>1.000000</td>\n",
       "    </tr>\n",
       "    <tr>\n",
       "      <th>25%</th>\n",
       "      <td>2.000000</td>\n",
       "    </tr>\n",
       "    <tr>\n",
       "      <th>50%</th>\n",
       "      <td>4.000000</td>\n",
       "    </tr>\n",
       "    <tr>\n",
       "      <th>75%</th>\n",
       "      <td>5.000000</td>\n",
       "    </tr>\n",
       "    <tr>\n",
       "      <th>max</th>\n",
       "      <td>5.000000</td>\n",
       "    </tr>\n",
       "  </tbody>\n",
       "</table>\n",
       "</div>"
      ],
      "text/plain": [
       "            rating\n",
       "count  6300.000000\n",
       "mean      3.391746\n",
       "std       1.554185\n",
       "min       1.000000\n",
       "25%       2.000000\n",
       "50%       4.000000\n",
       "75%       5.000000\n",
       "max       5.000000"
      ]
     },
     "execution_count": 9,
     "metadata": {},
     "output_type": "execute_result"
    }
   ],
   "source": [
    "data.describe()"
   ]
  },
  {
   "cell_type": "code",
   "execution_count": 10,
   "id": "5d32c06c",
   "metadata": {},
   "outputs": [],
   "source": [
    "data.to_parquet('data/reviews_cleaned.pq', compression='GZIP')"
   ]
  },
  {
   "cell_type": "code",
   "execution_count": null,
   "id": "51efb6d1",
   "metadata": {},
   "outputs": [],
   "source": []
  }
 ],
 "metadata": {
  "kernelspec": {
   "display_name": "Python [conda env:ml] *",
   "language": "python",
   "name": "conda-env-ml-py"
  },
  "language_info": {
   "codemirror_mode": {
    "name": "ipython",
    "version": 3
   },
   "file_extension": ".py",
   "mimetype": "text/x-python",
   "name": "python",
   "nbconvert_exporter": "python",
   "pygments_lexer": "ipython3",
   "version": "3.9.6"
  }
 },
 "nbformat": 4,
 "nbformat_minor": 5
}
