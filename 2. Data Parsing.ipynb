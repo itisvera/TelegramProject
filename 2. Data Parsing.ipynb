{
 "cells": [
  {
   "cell_type": "code",
   "execution_count": 1,
   "id": "13fecda0",
   "metadata": {},
   "outputs": [],
   "source": [
    "import time\n",
    "import numpy as np\n",
    "import pandas as pd\n",
    "\n",
    "from tqdm import tqdm\n",
    "from app_store_scraper import AppStore"
   ]
  },
  {
   "cell_type": "code",
   "execution_count": 2,
   "id": "b9dd91ed",
   "metadata": {},
   "outputs": [],
   "source": [
    "COUNTRY = 'us'\n",
    "COUNT = 420*5\n",
    "apps = [\n",
    "    ('686449807', 'telegram-messenger'),\n",
    "    ('310633997', 'whatsapp-messenger'),\n",
    "    ('454638411', 'messenger')\n",
    "]"
   ]
  },
  {
   "cell_type": "code",
   "execution_count": 3,
   "id": "7026a3c2",
   "metadata": {},
   "outputs": [
    {
     "name": "stderr",
     "output_type": "stream",
     "text": [
      "2022-12-03 17:00:41,788 [INFO] Base - Initialised: AppStore('us', 'telegram-messenger', 686449807)\n",
      "2022-12-03 17:00:41,791 [INFO] Base - Ready to fetch reviews from: https://apps.apple.com/us/app/telegram-messenger/id686449807\n",
      "2022-12-03 17:00:48,113 [INFO] Base - [id:686449807] Fetched 40 reviews (40 fetched in total)\n",
      "2022-12-03 17:00:58,411 [INFO] Base - [id:686449807] Fetched 160 reviews (160 fetched in total)\n",
      "2022-12-03 17:01:04,392 [INFO] Base - [id:686449807] Fetched 360 reviews (360 fetched in total)\n",
      "2022-12-03 17:01:10,026 [INFO] Base - [id:686449807] Fetched 560 reviews (560 fetched in total)\n",
      "2022-12-03 17:01:15,885 [INFO] Base - [id:686449807] Fetched 760 reviews (760 fetched in total)\n",
      "2022-12-03 17:01:21,803 [INFO] Base - [id:686449807] Fetched 980 reviews (980 fetched in total)\n",
      "2022-12-03 17:01:27,636 [INFO] Base - [id:686449807] Fetched 1200 reviews (1200 fetched in total)\n",
      "2022-12-03 17:01:33,169 [INFO] Base - [id:686449807] Fetched 1400 reviews (1400 fetched in total)\n",
      "2022-12-03 17:01:38,801 [INFO] Base - [id:686449807] Fetched 1600 reviews (1600 fetched in total)\n",
      "2022-12-03 17:01:44,740 [INFO] Base - [id:686449807] Fetched 1780 reviews (1780 fetched in total)\n",
      "2022-12-03 17:01:50,568 [INFO] Base - [id:686449807] Fetched 2000 reviews (2000 fetched in total)\n",
      "2022-12-03 17:01:53,242 [INFO] Base - [id:686449807] Fetched 2100 reviews (2100 fetched in total)\n",
      "2022-12-03 17:02:34,683 [INFO] Base - Initialised: AppStore('us', 'whatsapp-messenger', 310633997)\n",
      "2022-12-03 17:02:34,685 [INFO] Base - Ready to fetch reviews from: https://apps.apple.com/us/app/whatsapp-messenger/id310633997\n",
      "2022-12-03 17:02:40,072 [INFO] Base - [id:310633997] Fetched 120 reviews (120 fetched in total)\n",
      "2022-12-03 17:02:46,332 [INFO] Base - [id:310633997] Fetched 300 reviews (300 fetched in total)\n",
      "2022-12-03 17:02:52,426 [INFO] Base - [id:310633997] Fetched 460 reviews (460 fetched in total)\n",
      "2022-12-03 17:02:58,549 [INFO] Base - [id:310633997] Fetched 640 reviews (640 fetched in total)\n",
      "2022-12-03 17:03:04,508 [INFO] Base - [id:310633997] Fetched 820 reviews (820 fetched in total)\n",
      "2022-12-03 17:03:10,957 [INFO] Base - [id:310633997] Fetched 1000 reviews (1000 fetched in total)\n",
      "2022-12-03 17:03:16,899 [INFO] Base - [id:310633997] Fetched 1180 reviews (1180 fetched in total)\n",
      "2022-12-03 17:03:23,065 [INFO] Base - [id:310633997] Fetched 1360 reviews (1360 fetched in total)\n",
      "2022-12-03 17:03:28,976 [INFO] Base - [id:310633997] Fetched 1540 reviews (1540 fetched in total)\n",
      "2022-12-03 17:03:35,057 [INFO] Base - [id:310633997] Fetched 1720 reviews (1720 fetched in total)\n",
      "2022-12-03 17:03:41,237 [INFO] Base - [id:310633997] Fetched 1900 reviews (1900 fetched in total)\n",
      "2022-12-03 17:03:46,901 [INFO] Base - [id:310633997] Fetched 2060 reviews (2060 fetched in total)\n",
      "2022-12-03 17:03:48,333 [INFO] Base - [id:310633997] Fetched 2100 reviews (2100 fetched in total)\n",
      "2022-12-03 17:04:19,475 [INFO] Base - Initialised: AppStore('us', 'messenger', 454638411)\n",
      "2022-12-03 17:04:19,477 [INFO] Base - Ready to fetch reviews from: https://apps.apple.com/us/app/messenger/id454638411\n",
      "2022-12-03 17:04:24,792 [INFO] Base - [id:454638411] Fetched 160 reviews (160 fetched in total)\n",
      "2022-12-03 17:04:31,116 [INFO] Base - [id:454638411] Fetched 340 reviews (340 fetched in total)\n",
      "2022-12-03 17:04:37,488 [INFO] Base - [id:454638411] Fetched 520 reviews (520 fetched in total)\n",
      "2022-12-03 17:04:43,632 [INFO] Base - [id:454638411] Fetched 700 reviews (700 fetched in total)\n",
      "2022-12-03 17:04:49,930 [INFO] Base - [id:454638411] Fetched 880 reviews (880 fetched in total)\n",
      "2022-12-03 17:04:56,229 [INFO] Base - [id:454638411] Fetched 1060 reviews (1060 fetched in total)\n",
      "2022-12-03 17:05:02,572 [INFO] Base - [id:454638411] Fetched 1240 reviews (1240 fetched in total)\n",
      "2022-12-03 17:05:08,310 [INFO] Base - [id:454638411] Fetched 1400 reviews (1400 fetched in total)\n",
      "2022-12-03 17:05:14,661 [INFO] Base - [id:454638411] Fetched 1520 reviews (1520 fetched in total)\n",
      "2022-12-03 17:05:20,611 [INFO] Base - [id:454638411] Fetched 1680 reviews (1680 fetched in total)\n",
      "2022-12-03 17:05:26,944 [INFO] Base - [id:454638411] Fetched 1860 reviews (1860 fetched in total)\n",
      "2022-12-03 17:05:33,091 [INFO] Base - [id:454638411] Fetched 2040 reviews (2040 fetched in total)\n",
      "2022-12-03 17:05:35,207 [INFO] Base - [id:454638411] Fetched 2100 reviews (2100 fetched in total)\n"
     ]
    },
    {
     "name": "stdout",
     "output_type": "stream",
     "text": [
      "6300\n"
     ]
    }
   ],
   "source": [
    "df_list = []\n",
    "\n",
    "for app_id, app_name in apps:\n",
    "    parser = AppStore(country=COUNTRY, app_name=app_name, app_id=app_id)\n",
    "    parser.review(how_many=COUNT)\n",
    "    sub_df = pd.DataFrame.from_records(parser.reviews)\n",
    "    if app_name == 'messenger':\n",
    "        sub_df['app_name'] = 'facebook-messenger'\n",
    "    else:\n",
    "        sub_df['app_name'] = app_name\n",
    "    df_list.append(sub_df)\n",
    "    del parser\n",
    "    time.sleep(30)\n",
    "    \n",
    "data = pd.concat(df_list, ignore_index=True)\n",
    "print(len(data))"
   ]
  },
  {
   "cell_type": "code",
   "execution_count": 4,
   "id": "375b8557",
   "metadata": {},
   "outputs": [
    {
     "data": {
      "text/plain": [
       "array(['telegram-messenger', 'whatsapp-messenger', 'facebook-messenger'],\n",
       "      dtype=object)"
      ]
     },
     "execution_count": 4,
     "metadata": {},
     "output_type": "execute_result"
    }
   ],
   "source": [
    "data.app_name.unique()"
   ]
  },
  {
   "cell_type": "code",
   "execution_count": 5,
   "id": "a9c4f601",
   "metadata": {},
   "outputs": [
    {
     "data": {
      "text/html": [
       "<div>\n",
       "<style scoped>\n",
       "    .dataframe tbody tr th:only-of-type {\n",
       "        vertical-align: middle;\n",
       "    }\n",
       "\n",
       "    .dataframe tbody tr th {\n",
       "        vertical-align: top;\n",
       "    }\n",
       "\n",
       "    .dataframe thead th {\n",
       "        text-align: right;\n",
       "    }\n",
       "</style>\n",
       "<table border=\"1\" class=\"dataframe\">\n",
       "  <thead>\n",
       "    <tr style=\"text-align: right;\">\n",
       "      <th></th>\n",
       "      <th>userName</th>\n",
       "      <th>review</th>\n",
       "      <th>title</th>\n",
       "      <th>isEdited</th>\n",
       "      <th>date</th>\n",
       "      <th>rating</th>\n",
       "      <th>developerResponse</th>\n",
       "      <th>app_name</th>\n",
       "    </tr>\n",
       "  </thead>\n",
       "  <tbody>\n",
       "    <tr>\n",
       "      <th>0</th>\n",
       "      <td>mov ax,1/int 21h</td>\n",
       "      <td>OVERALL If you’re tired of companies like face...</td>\n",
       "      <td>Secure, Easy to Use</td>\n",
       "      <td>False</td>\n",
       "      <td>2021-07-24 13:51:42</td>\n",
       "      <td>4</td>\n",
       "      <td>NaN</td>\n",
       "      <td>telegram-messenger</td>\n",
       "    </tr>\n",
       "    <tr>\n",
       "      <th>1</th>\n",
       "      <td>girlwithLion</td>\n",
       "      <td>✩ edit: the gift subscription button is not wo...</td>\n",
       "      <td>it’s my favorite app and i recommend it to eve...</td>\n",
       "      <td>False</td>\n",
       "      <td>2022-08-23 03:17:01</td>\n",
       "      <td>5</td>\n",
       "      <td>NaN</td>\n",
       "      <td>telegram-messenger</td>\n",
       "    </tr>\n",
       "    <tr>\n",
       "      <th>2</th>\n",
       "      <td>Mr.. Fisher</td>\n",
       "      <td>Hey, I’ve been using Telegram for over 10+ yea...</td>\n",
       "      <td>In desperate need of Group Video Chat</td>\n",
       "      <td>False</td>\n",
       "      <td>2021-02-18 15:00:42</td>\n",
       "      <td>3</td>\n",
       "      <td>NaN</td>\n",
       "      <td>telegram-messenger</td>\n",
       "    </tr>\n",
       "    <tr>\n",
       "      <th>3</th>\n",
       "      <td>Zakir Hosen</td>\n",
       "      <td>I am enjoying telegram as my main chatting app...</td>\n",
       "      <td>Need Video calling feature, faster passcode lo...</td>\n",
       "      <td>False</td>\n",
       "      <td>2019-09-20 15:54:38</td>\n",
       "      <td>4</td>\n",
       "      <td>{'id': 20383789, 'body': 'Video calls are avai...</td>\n",
       "      <td>telegram-messenger</td>\n",
       "    </tr>\n",
       "    <tr>\n",
       "      <th>4</th>\n",
       "      <td>Mr Bcubed</td>\n",
       "      <td>The genuine telegram app deletes text messages...</td>\n",
       "      <td>Deleted messages</td>\n",
       "      <td>False</td>\n",
       "      <td>2020-05-30 05:14:18</td>\n",
       "      <td>5</td>\n",
       "      <td>NaN</td>\n",
       "      <td>telegram-messenger</td>\n",
       "    </tr>\n",
       "  </tbody>\n",
       "</table>\n",
       "</div>"
      ],
      "text/plain": [
       "           userName                                             review  \\\n",
       "0  mov ax,1/int 21h  OVERALL If you’re tired of companies like face...   \n",
       "1      girlwithLion  ✩ edit: the gift subscription button is not wo...   \n",
       "2       Mr.. Fisher  Hey, I’ve been using Telegram for over 10+ yea...   \n",
       "3       Zakir Hosen  I am enjoying telegram as my main chatting app...   \n",
       "4         Mr Bcubed  The genuine telegram app deletes text messages...   \n",
       "\n",
       "                                               title  isEdited  \\\n",
       "0                                Secure, Easy to Use     False   \n",
       "1  it’s my favorite app and i recommend it to eve...     False   \n",
       "2              In desperate need of Group Video Chat     False   \n",
       "3  Need Video calling feature, faster passcode lo...     False   \n",
       "4                                   Deleted messages     False   \n",
       "\n",
       "                 date  rating  \\\n",
       "0 2021-07-24 13:51:42       4   \n",
       "1 2022-08-23 03:17:01       5   \n",
       "2 2021-02-18 15:00:42       3   \n",
       "3 2019-09-20 15:54:38       4   \n",
       "4 2020-05-30 05:14:18       5   \n",
       "\n",
       "                                   developerResponse            app_name  \n",
       "0                                                NaN  telegram-messenger  \n",
       "1                                                NaN  telegram-messenger  \n",
       "2                                                NaN  telegram-messenger  \n",
       "3  {'id': 20383789, 'body': 'Video calls are avai...  telegram-messenger  \n",
       "4                                                NaN  telegram-messenger  "
      ]
     },
     "execution_count": 5,
     "metadata": {},
     "output_type": "execute_result"
    }
   ],
   "source": [
    "data.head()"
   ]
  },
  {
   "cell_type": "code",
   "execution_count": 7,
   "id": "459dd06d",
   "metadata": {},
   "outputs": [],
   "source": [
    "data.to_parquet('data/reviews.pq', compression='GZIP')"
   ]
  },
  {
   "cell_type": "code",
   "execution_count": null,
   "id": "1d1564d3",
   "metadata": {},
   "outputs": [],
   "source": []
  }
 ],
 "metadata": {
  "kernelspec": {
   "display_name": "Python [conda env:ml] *",
   "language": "python",
   "name": "conda-env-ml-py"
  },
  "language_info": {
   "codemirror_mode": {
    "name": "ipython",
    "version": 3
   },
   "file_extension": ".py",
   "mimetype": "text/x-python",
   "name": "python",
   "nbconvert_exporter": "python",
   "pygments_lexer": "ipython3",
   "version": "3.9.6"
  }
 },
 "nbformat": 4,
 "nbformat_minor": 5
}
